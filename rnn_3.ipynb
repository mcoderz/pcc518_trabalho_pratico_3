{
 "cells": [
  {
   "cell_type": "code",
   "execution_count": 53,
   "metadata": {},
   "outputs": [],
   "source": [
    "import csv\n",
    "import matplotlib.pyplot as plt\n",
    "import numpy as np\n",
    "import tensorflow as tf\n",
    "from tensorflow.keras.preprocessing.text import Tokenizer\n",
    "from tensorflow.keras.preprocessing.sequence import pad_sequences\n",
    "from tensorflow.keras.models import Sequential\n",
    "from tensorflow.keras import layers\n",
    "from tensorflow.keras.layers import Dense, Embedding, LSTM\n",
    "\n",
    "from sklearn.metrics import f1_score, precision_score, recall_score, accuracy_score, classification_report"
   ]
  },
  {
   "cell_type": "code",
   "execution_count": 2,
   "metadata": {},
   "outputs": [],
   "source": [
    "#vocab_size = 5000\n",
    "embedding_dim = 100\n",
    "#max_length = 200\n",
    "trunc_type = 'post'\n",
    "padding_type = 'post'\n",
    "#oov_tok = '<OOV>'\n",
    "#training_portion = .8"
   ]
  },
  {
   "cell_type": "code",
   "execution_count": 3,
   "metadata": {},
   "outputs": [],
   "source": [
    "def csv_to_list (file_name):\n",
    "    \"\"\"\n",
    "    Converte o CSV em duas lista distintas:\n",
    "    articles e labels\n",
    "    \"\"\"\n",
    "    articles = []\n",
    "    labels = []\n",
    "\n",
    "    with open(file_name, 'r') as csvfile:\n",
    "        reader = csv.reader(csvfile, delimiter=',')\n",
    "        next(reader)\n",
    "        for row in reader:\n",
    "            labels.append(row[1])\n",
    "            articles.append(row[3])\n",
    "    \n",
    "    return labels, articles"
   ]
  },
  {
   "cell_type": "code",
   "execution_count": 4,
   "metadata": {},
   "outputs": [
    {
     "name": "stdout",
     "output_type": "stream",
     "text": [
      "4024\n",
      "4024\n"
     ]
    }
   ],
   "source": [
    "test_labels = csv_to_list('data_test.csv')[0]\n",
    "test_category = csv_to_list('data_test.csv')[1]\n",
    "\n",
    "print(len(test_category))\n",
    "print(len(test_labels))"
   ]
  },
  {
   "cell_type": "code",
   "execution_count": 5,
   "metadata": {},
   "outputs": [
    {
     "name": "stdout",
     "output_type": "stream",
     "text": [
      "11413\n",
      "11413\n"
     ]
    }
   ],
   "source": [
    "training_labels = csv_to_list('data_training.csv')[0]\n",
    "training_category = csv_to_list('data_training.csv')[1]\n",
    "\n",
    "print(len(training_category))\n",
    "print(len(training_labels))"
   ]
  },
  {
   "cell_type": "code",
   "execution_count": 79,
   "metadata": {},
   "outputs": [],
   "source": [
    "text_len = []\n",
    "for i in training_category:\n",
    "    text_len.append(len(i))\n",
    "\n",
    "max_length = np.median(text_len)\n",
    "max_length = max_length.astype(np.int64)"
   ]
  },
  {
   "cell_type": "code",
   "execution_count": 80,
   "metadata": {},
   "outputs": [
    {
     "name": "stdout",
     "output_type": "stream",
     "text": [
      "(11413, 541)\n"
     ]
    }
   ],
   "source": [
    "tokenizer = Tokenizer()\n",
    "tokenizer.fit_on_texts(training_category)\n",
    "\n",
    "training_word_index = tokenizer.word_index\n",
    "training_vocab_size=len(training_word_index)\n",
    "\n",
    "training_sequences = tokenizer.texts_to_sequences(training_category)\n",
    "traning_padded = pad_sequences(training_sequences, maxlen=max_length, padding=padding_type, truncating=trunc_type)\n",
    "\n",
    "print(traning_padded.shape)"
   ]
  },
  {
   "cell_type": "code",
   "execution_count": 7,
   "metadata": {},
   "outputs": [
    {
     "name": "stdout",
     "output_type": "stream",
     "text": [
      "us scientists say tropical oils health risk author by david brough reutersauthor washington april us scientists said some tropical vegetable oils can be hazardous to consumers whose health is at risk because of high levels of saturated fat lending weight to a campaign by the american soybean association asa for labelling changes the scientists appeared to support an asa charge denied by malaysian palm growers that imported coconut palm and palm kernel oils contain high levels of saturated fat and thus raise blood cholesterol and the risk of heart disease in a petition filed in january the asa asked the us food and drug administration fda to require palm palm kernel and coconut oils to be identified as saturated fats on food manufacturers labels the fda responded to the asa in a letter saying it would consider the petition as a comment to a proposed rule dealing with cholesterol and fatty acid labelling of foods malaysian oil palm growers have said the charges by the asa that palm oil consumption increases blood cholesterol and contributes to heart disease are untrue but steve chang professor of food science at rutgers university said palm oil is definitely not good for human health because it has a high content of saturated fatty acid he added that the higher the fatty acid the greater the blood cholesterol level it has been well established that high cholesterol levels will have a higher level of heart disease he said a malaysian oil palm growers council official borge beknielsen has said studies have shown that palm oil is cholesterolfree low in saturated fats has anticancer properties and prevents blood clotting and blocking of arteries in humans beknielsen said americans consume more saturated fats daily through food like butter bacon ham and beef than from palm oil which he added is rich in vitamins a and e david kritchevsky associate director of the wistar institute in philadelphia appeared to take the asa view on labelling what people really have to learn is to read labels said kritchevsky the more a consumer knows the more likely he will make an intelligent choice the us scientists said they had no doubt imported palm palm kernel and coconut oils contain high saturated fat levels kritchevsky a specialist in nutrition said more saturated fat would raise cholesterol levelsso from that point of view its a health risk high cholesterol levels in the blood are a risk factor for heart disease susanne harris deputy assistant secretary of the us agriculture departments food and consumer services division said the health risk among consumers of vegetable oils with high saturated fat levels was highest among those who have heart disease the scientists said more than pct of the fatty acid content of the tropical oils was saturated whereas less than pct of the fatty acid content of soybean oil was saturated david ericksen director of asas technical services said us soybean producers could regain about onehalf of the mln dlrs in sales lost to imported tropical oils if consumers were aware the vegetable oils were high in saturated fat imported tropical oils displace mln bushels of us soybean sales in the us market asa estimates us imports of coconut oil during january totaled mln lbs compared with mln lbs in december and mln a year earlier according to commerce department figures imports of palm oil totaled mln lbs compared with mln lbs in december and mln a year earlier\n"
     ]
    }
   ],
   "source": [
    "print(training_category[0])"
   ]
  },
  {
   "cell_type": "code",
   "execution_count": 81,
   "metadata": {},
   "outputs": [
    {
     "name": "stdout",
     "output_type": "stream",
     "text": [
      "[26, 4470, 434, 3733, 746, 1207, 849, 379, 17, 1261, 13917, 424, 125, 48, 26, 4470, 6, 102, 3733, 885, 746, 286, 21, 8435, 2, 908, 1593, 1207, 15, 19, 849, 137, 3, 272, 375, 3, 3447, 2752, 681, 2102, 2, 7, 2565, 17, 1, 189, 240, 410, 2236, 9, 6559, 578, 1, 4470, 1837, 2, 369, 33, 2236, 827, 2017, 17, 1672, 605, 807, 18, 1219, 2187, 605, 5, 605, 4146, 746, 2679, 272, 375, 3, 3447, 2752, 5, 1696, 630, 3970, 4935, 5, 1, 849, 3, 2816, 1818, 4, 7, 3379, 766, 4, 85, 1, 2236, 464, 1, 26, 607, 5, 2082, 465, 5086, 2, 1289, 605, 605, 4146, 5, 2187, 746, 2, 21, 1903, 30, 3447, 1510, 14, 607, 1365, 6560, 1, 5086, 3316, 2, 1, 2236, 4, 7, 743, 622, 12, 32, 905, 1, 3379, 30, 7, 556, 2, 7, 348, 1934, 2208, 24, 4935, 5, 5817, 4256, 6559, 3, 2237, 1672, 53, 605, 807, 45, 6, 1, 1246, 17, 1, 2236, 18, 605, 53, 850, 654, 3970, 4935, 5, 10841, 2, 2816, 1818, 41, 10842, 40, 5818, 5243, 6847, 3, 607, 5819, 19, 13918, 4147, 6, 605, 53, 15, 4564, 35, 510, 9, 5628, 1207, 137, 12, 34, 7, 272, 2753, 3, 3447, 5817, 4256, 29, 138, 18, 1, 225, 1, 5817, 4256, 1, 882, 1, 3970, 4935, 295, 12, 34, 64, 323, 1685, 18, 272, 4935, 375, 23, 45, 7, 225, 295, 3, 2816, 1818, 29, 6, 7, 1672, 53, 605, 807, 586, 136, 13919, 9802, 34, 6, 4359, 45, 2506, 18, 605, 53, 15, 13920, 413, 4, 3447, 1510, 34, 13921, 1006, 5, 10843, 3970, 13922, 5, 6056, 3, 13923, 4, 8436, 9802, 6, 2817, 13924, 69, 3447, 1510, 628, 176, 607, 821, 3656, 10844, 10845, 5, 744, 71, 16, 605, 53, 42, 29, 138, 15, 3380, 4, 10846, 7, 5, 2859, 1261, 7950, 4257, 783, 3, 1, 13925, 883, 4, 2387, 1837, 2, 288, 1, 2236, 1135, 14, 6559, 437, 909, 1883, 45, 2, 7173, 15, 2, 3592, 6560, 6, 7950, 1, 69, 7, 558, 6057, 1, 69, 268, 29, 23, 265, 33, 5629, 3108, 1, 26, 4470, 6, 57, 54, 108, 2973, 1219, 605, 605, 4146, 5, 2187, 746, 2679, 272, 3447, 2752, 375, 7950, 7, 4689, 4, 7538, 6, 69, 3447, 2752, 32, 630, 4935, 13926, 16, 18, 449, 3, 1135, 22, 7, 1207, 849, 272, 4935, 375, 4, 1, 3970, 41, 7, 849, 1554, 9, 2816, 1818, 13927, 2031, 1511, 2388, 420, 3, 1, 26, 177, 1333, 607, 5, 558, 513, 759, 6, 1, 1207, 849, 592, 908, 3, 885, 746, 24, 272, 3447, 2752, 375, 27, 1768, 592, 419, 289, 45, 2816, 1818, 1, 4470, 6, 69, 71, 10, 3, 1, 5817, 4256, 2753, 3, 1, 3733, 746, 27, 3447, 6561, 385, 71, 10, 3, 1, 5817, 4256, 2753, 3, 240, 53, 27, 3447, 1261, 13928, 783, 3, 9080, 1673, 513, 6, 26, 240, 297, 105, 5820, 60, 5087, 3, 1, 8, 11, 4, 80, 1262, 2, 1219, 3733, 746, 95, 908, 44, 3010, 1, 885, 746, 44, 272, 4, 3447, 2752, 1219, 3733, 746, 10847, 8, 734, 3, 26, 240, 80, 4, 1, 26, 52, 2236, 572, 26, 157, 3, 2187, 53, 229, 85, 1819, 8, 1674, 207, 24, 8, 1674, 4, 194, 5, 8, 7, 25, 165, 461, 2, 728, 155, 242, 157, 3, 605, 53, 1819, 8, 1674, 207, 24, 8, 1674, 4, 194, 5, 8, 7, 25, 165]\n"
     ]
    }
   ],
   "source": [
    "print(training_sequences[0])"
   ]
  },
  {
   "cell_type": "code",
   "execution_count": 82,
   "metadata": {},
   "outputs": [
    {
     "name": "stdout",
     "output_type": "stream",
     "text": [
      "[   26  4470   434  3733   746  1207   849   379    17  1261 13917   424\n",
      "   125    48    26  4470     6   102  3733   885   746   286    21  8435\n",
      "     2   908  1593  1207    15    19   849   137     3   272   375     3\n",
      "  3447  2752   681  2102     2     7  2565    17     1   189   240   410\n",
      "  2236     9  6559   578     1  4470  1837     2   369    33  2236   827\n",
      "  2017    17  1672   605   807    18  1219  2187   605     5   605  4146\n",
      "   746  2679   272   375     3  3447  2752     5  1696   630  3970  4935\n",
      "     5     1   849     3  2816  1818     4     7  3379   766     4    85\n",
      "     1  2236   464     1    26   607     5  2082   465  5086     2  1289\n",
      "   605   605  4146     5  2187   746     2    21  1903    30  3447  1510\n",
      "    14   607  1365  6560     1  5086  3316     2     1  2236     4     7\n",
      "   743   622    12    32   905     1  3379    30     7   556     2     7\n",
      "   348  1934  2208    24  4935     5  5817  4256  6559     3  2237  1672\n",
      "    53   605   807    45     6     1  1246    17     1  2236    18   605\n",
      "    53   850   654  3970  4935     5 10841     2  2816  1818    41 10842\n",
      "    40  5818  5243  6847     3   607  5819    19 13918  4147     6   605\n",
      "    53    15  4564    35   510     9  5628  1207   137    12    34     7\n",
      "   272  2753     3  3447  5817  4256    29   138    18     1   225     1\n",
      "  5817  4256     1   882     1  3970  4935   295    12    34    64   323\n",
      "  1685    18   272  4935   375    23    45     7   225   295     3  2816\n",
      "  1818    29     6     7  1672    53   605   807   586   136 13919  9802\n",
      "    34     6  4359    45  2506    18   605    53    15 13920   413     4\n",
      "  3447  1510    34 13921  1006     5 10843  3970 13922     5  6056     3\n",
      " 13923     4  8436  9802     6  2817 13924    69  3447  1510   628   176\n",
      "   607   821  3656 10844 10845     5   744    71    16   605    53    42\n",
      "    29   138    15  3380     4 10846     7     5  2859  1261  7950  4257\n",
      "   783     3     1 13925   883     4  2387  1837     2   288     1  2236\n",
      "  1135    14  6559   437   909  1883    45     2  7173    15     2  3592\n",
      "  6560     6  7950     1    69     7   558  6057     1    69   268    29\n",
      "    23   265    33  5629  3108     1    26  4470     6    57    54   108\n",
      "  2973  1219   605   605  4146     5  2187   746  2679   272  3447  2752\n",
      "   375  7950     7  4689     4  7538     6    69  3447  2752    32   630\n",
      "  4935 13926    16    18   449     3  1135    22     7  1207   849   272\n",
      "  4935   375     4     1  3970    41     7   849  1554     9  2816  1818\n",
      " 13927  2031  1511  2388   420     3     1    26   177  1333   607     5\n",
      "   558   513   759     6     1  1207   849   592   908     3   885   746\n",
      "    24   272  3447  2752   375    27  1768   592   419   289    45  2816\n",
      "  1818     1  4470     6    69    71    10     3     1  5817  4256  2753\n",
      "     3     1  3733   746    27  3447  6561   385    71    10     3     1\n",
      "  5817  4256  2753     3   240    53    27  3447  1261 13928   783     3\n",
      "  9080  1673   513     6    26   240   297   105  5820    60  5087     3\n",
      "     1     8    11     4    80  1262     2  1219  3733   746    95   908\n",
      "    44  3010     1   885   746    44   272     4  3447  2752  1219  3733\n",
      "   746 10847     8   734     3    26   240    80     4     1    26    52\n",
      "  2236   572    26   157     3  2187    53   229    85  1819     8  1674\n",
      "   207]\n"
     ]
    }
   ],
   "source": [
    "print(traning_padded [0])"
   ]
  },
  {
   "cell_type": "code",
   "execution_count": 10,
   "metadata": {},
   "outputs": [
    {
     "name": "stdout",
     "output_type": "stream",
     "text": [
      "(4024, 200)\n"
     ]
    }
   ],
   "source": [
    "tokenizer = Tokenizer()\n",
    "tokenizer.fit_on_texts(test_category)\n",
    "\n",
    "test_sequences = tokenizer.texts_to_sequences(test_category)\n",
    "test_padded = pad_sequences(test_sequences, maxlen=max_length, padding=padding_type, truncating=trunc_type)\n",
    "\n",
    "print(test_padded.shape)"
   ]
  },
  {
   "cell_type": "code",
   "execution_count": 11,
   "metadata": {},
   "outputs": [
    {
     "name": "stdout",
     "output_type": "stream",
     "text": [
      "(11413, 1)\n"
     ]
    }
   ],
   "source": [
    "label_tokenizer = Tokenizer(filters='!\"#$%&()*+,./:;<=>?@[\\\\]^_`{|}~\\t\\n')\n",
    "label_tokenizer.fit_on_texts(training_labels)\n",
    "\n",
    "training_label_seq = np.array(label_tokenizer.texts_to_sequences(training_labels))\n",
    "\n",
    "print(training_label_seq.shape)"
   ]
  },
  {
   "cell_type": "code",
   "execution_count": 12,
   "metadata": {},
   "outputs": [
    {
     "name": "stdout",
     "output_type": "stream",
     "text": [
      "[[72]\n",
      " [72]\n",
      " [72]\n",
      " ...\n",
      " [18]\n",
      " [18]\n",
      " [18]]\n"
     ]
    }
   ],
   "source": [
    "print(training_label_seq)"
   ]
  },
  {
   "cell_type": "code",
   "execution_count": 13,
   "metadata": {},
   "outputs": [
    {
     "name": "stdout",
     "output_type": "stream",
     "text": [
      "[ 1  2  3  4  5  6  7  8  9 10 11 12 13 14 15 16 17 18 19 20 21 22 23 24\n",
      " 25 26 27 28 29 30 31 32 33 34 35 36 37 38 39 40 41 42 43 44 45 46 47 48\n",
      " 49 50 51 52 53 54 55 56 57 58 59 60 61 62 63 64 65 66 67 68 69 70 71 72\n",
      " 73 74 75 76 77 78 79 80 81 82 83 84 85 86 87 88 89 90 91]\n"
     ]
    }
   ],
   "source": [
    "unique = np.unique(training_label_seq) #conta valores únicos na matriz: https://www.delftstack.com/pt/howto/numpy/python-numpy-value-counts/\n",
    "print (unique) "
   ]
  },
  {
   "cell_type": "code",
   "execution_count": 14,
   "metadata": {},
   "outputs": [
    {
     "name": "stdout",
     "output_type": "stream",
     "text": [
      "(4024, 1)\n"
     ]
    }
   ],
   "source": [
    "label_tokenizer = Tokenizer(filters='!\"#$%&()*+,./:;<=>?@[\\\\]^_`{|}~\\t\\n')\n",
    "label_tokenizer.fit_on_texts(test_labels)\n",
    "\n",
    "test_label_seq = np.array(label_tokenizer.texts_to_sequences(test_labels))\n",
    "\n",
    "print(test_label_seq.shape)\n"
   ]
  },
  {
   "cell_type": "code",
   "execution_count": 15,
   "metadata": {},
   "outputs": [
    {
     "name": "stdout",
     "output_type": "stream",
     "text": [
      "Model: \"sequential\"\n",
      "_________________________________________________________________\n",
      "Layer (type)                 Output Shape              Param #   \n",
      "=================================================================\n",
      "embedding (Embedding)        (None, None, 100)         3179800   \n",
      "_________________________________________________________________\n",
      "bidirectional (Bidirectional (None, 200)               160800    \n",
      "_________________________________________________________________\n",
      "dense (Dense)                (None, 100)               20100     \n",
      "_________________________________________________________________\n",
      "dense_1 (Dense)              (None, 92)                9292      \n",
      "=================================================================\n",
      "Total params: 3,369,992\n",
      "Trainable params: 3,369,992\n",
      "Non-trainable params: 0\n",
      "_________________________________________________________________\n"
     ]
    }
   ],
   "source": [
    "model = tf.keras.Sequential([\n",
    "    tf.keras.layers.Embedding(training_vocab_size+1, embedding_dim),\n",
    "    tf.keras.layers.Bidirectional(tf.keras.layers.LSTM(embedding_dim)),\n",
    "    tf.keras.layers.Dense(embedding_dim, activation='relu'),\n",
    "    tf.keras.layers.Dense(92, activation='softmax')\n",
    "])\n",
    "model.summary()"
   ]
  },
  {
   "cell_type": "code",
   "execution_count": 49,
   "metadata": {},
   "outputs": [],
   "source": [
    "model.compile(loss='sparse_categorical_crossentropy',optimizer='adam',metrics=['accuracy']) # https://keras.io/api/models/model_training_apis/ ; https://www.tensorflow.org/api_docs/python/tf/keras/metrics"
   ]
  },
  {
   "cell_type": "code",
   "execution_count": null,
   "metadata": {},
   "outputs": [],
   "source": [
    "num_epochs = 1\n",
    "history = model.fit(traning_padded, training_label_seq, epochs=num_epochs, verbose=2)"
   ]
  },
  {
   "cell_type": "code",
   "execution_count": 30,
   "metadata": {},
   "outputs": [
    {
     "data": {
      "image/png": "[encoded data removed]",
      "text/plain": [
       "<Figure size 432x288 with 1 Axes>"
      ]
     },
     "metadata": {
      "needs_background": "light"
     },
     "output_type": "display_data"
    }
   ],
   "source": [
    "plt.plot(history.history['accuracy'])\n",
    "plt.title('Model accuracy')\n",
    "plt.ylabel('Accuracy')\n",
    "plt.xlabel('Epoch')\n",
    "plt.legend(['Train'], loc='upper left')\n",
    "plt.show()"
   ]
  },
  {
   "cell_type": "code",
   "execution_count": 31,
   "metadata": {},
   "outputs": [
    {
     "data": {
      "image/png": "[encoded data removed]",
      "text/plain": [
       "<Figure size 432x288 with 1 Axes>"
      ]
     },
     "metadata": {
      "needs_background": "light"
     },
     "output_type": "display_data"
    }
   ],
   "source": [
    "plt.plot(history.history['loss'])\n",
    "plt.title('Model loss')\n",
    "plt.ylabel('Loss')\n",
    "plt.xlabel('Epoch')\n",
    "plt.legend(['Train'], loc='upper left')\n",
    "plt.show()"
   ]
  },
  {
   "cell_type": "code",
   "execution_count": 19,
   "metadata": {},
   "outputs": [],
   "source": [
    "#print(\"{}: {}\".format(model.metrics_names[0], metrics[0]))\n",
    "#print(\"{}: {}\".format(model.metrics_names[1], metrics[1]))"
   ]
  },
  {
   "cell_type": "code",
   "execution_count": 29,
   "metadata": {},
   "outputs": [
    {
     "name": "stdout",
     "output_type": "stream",
     "text": [
      "4024/1 - 27s - loss: 4.9551 - accuracy: 0.1252\n"
     ]
    }
   ],
   "source": [
    "test_eval = model.evaluate(test_padded, test_label_seq, verbose=2)"
   ]
  },
  {
   "cell_type": "code",
   "execution_count": 42,
   "metadata": {},
   "outputs": [
    {
     "name": "stdout",
     "output_type": "stream",
     "text": [
      "              precision    recall  f1-score   support\n",
      "\n",
      "           1       0.18      0.06      0.09      1087\n",
      "           2       0.23      0.48      0.31       719\n",
      "           3       0.03      0.02      0.02       280\n",
      "           4       0.02      0.02      0.02       189\n",
      "           5       0.07      0.13      0.09       179\n",
      "           6       0.04      0.38      0.07       149\n",
      "           7       0.06      0.04      0.05       131\n",
      "           8       0.04      0.01      0.01       117\n",
      "           9       0.00      0.00      0.00        89\n",
      "          10       0.00      0.00      0.00        71\n",
      "          11       0.00      0.00      0.00        56\n",
      "          12       0.00      0.00      0.00        47\n",
      "          13       0.00      0.00      0.00        44\n",
      "          14       0.00      0.00      0.00        37\n",
      "          15       0.00      0.00      0.00        36\n",
      "          16       0.00      0.00      0.00        35\n",
      "          17       0.00      0.00      0.00        34\n",
      "          18       0.00      0.00      0.00        33\n",
      "          19       0.00      0.00      0.00        30\n",
      "          20       0.00      0.00      0.00        30\n",
      "          21       0.00      0.00      0.00        30\n",
      "          22       0.00      0.00      0.00        28\n",
      "          23       0.00      0.00      0.00        28\n",
      "          24       0.00      0.00      0.00        24\n",
      "          25       0.00      0.00      0.00        24\n",
      "          26       0.00      0.00      0.00        23\n",
      "          27       0.00      0.00      0.00        21\n",
      "          28       0.00      0.00      0.00        20\n",
      "          29       0.00      0.00      0.00        19\n",
      "          30       0.00      0.00      0.00        18\n",
      "          31       0.00      0.00      0.00        18\n",
      "          32       0.00      0.00      0.00        18\n",
      "          33       0.00      0.00      0.00        18\n",
      "          34       0.00      0.00      0.00        17\n",
      "          35       0.00      0.00      0.00        14\n",
      "          36       0.00      0.00      0.00        14\n",
      "          37       0.00      0.00      0.00        14\n",
      "          38       0.00      0.00      0.00        14\n",
      "          39       0.00      0.00      0.00        13\n",
      "          40       0.00      0.00      0.00        13\n",
      "          41       0.00      0.00      0.00        12\n",
      "          42       0.00      0.00      0.00        12\n",
      "          43       0.00      0.00      0.00        12\n",
      "          44       0.00      0.00      0.00        12\n",
      "          45       0.00      0.00      0.00        11\n",
      "          46       0.00      0.00      0.00        11\n",
      "          47       0.00      0.00      0.00        11\n",
      "          48       0.00      0.00      0.00        10\n",
      "          49       0.00      0.00      0.00        10\n",
      "          50       0.00      0.00      0.00        10\n",
      "          51       0.00      0.00      0.00        10\n",
      "          52       0.00      0.00      0.00         9\n",
      "          53       0.00      0.00      0.00         8\n",
      "          54       0.00      0.00      0.00         7\n",
      "          55       0.00      0.00      0.00         7\n",
      "          56       0.00      0.00      0.00         6\n",
      "          57       0.00      0.00      0.00         6\n",
      "          58       0.00      0.00      0.00         6\n",
      "          59       0.00      0.00      0.00         5\n",
      "          60       0.00      0.00      0.00         5\n",
      "          61       0.00      0.00      0.00         4\n",
      "          62       0.00      0.00      0.00         4\n",
      "          63       0.00      0.00      0.00         4\n",
      "          64       0.00      0.00      0.00         4\n",
      "          65       0.00      0.00      0.00         4\n",
      "          66       0.00      0.00      0.00         3\n",
      "          67       0.00      0.00      0.00         3\n",
      "          68       0.00      0.00      0.00         3\n",
      "          69       0.00      0.00      0.00         3\n",
      "          70       0.00      0.00      0.00         3\n",
      "          71       0.00      0.00      0.00         2\n",
      "          72       0.00      0.00      0.00         2\n",
      "          73       0.00      0.00      0.00         2\n",
      "          74       0.00      0.00      0.00         2\n",
      "          75       0.00      0.00      0.00         2\n",
      "          76       0.00      0.00      0.00         2\n",
      "          77       0.00      0.00      0.00         2\n",
      "          78       0.00      0.00      0.00         1\n",
      "          79       0.00      0.00      0.00         1\n",
      "          80       0.00      0.00      0.00         1\n",
      "          81       0.00      0.00      0.00         1\n",
      "          82       0.00      0.00      0.00         1\n",
      "          83       0.00      0.00      0.00         1\n",
      "          84       0.00      0.00      0.00         1\n",
      "          85       0.00      0.00      0.00         1\n",
      "          86       0.00      0.00      0.00         1\n",
      "          87       0.00      0.00      0.00         1\n",
      "          88       0.00      0.00      0.00         1\n",
      "          89       0.00      0.00      0.00         1\n",
      "          90       0.00      0.00      0.00         1\n",
      "          91       0.00      0.00      0.00         1\n",
      "\n",
      "    accuracy                           0.13      4024\n",
      "   macro avg       0.01      0.01      0.01      4024\n",
      "weighted avg       0.10      0.13      0.09      4024\n",
      "\n"
     ]
    },
    {
     "name": "stderr",
     "output_type": "stream",
     "text": [
      "/home/abner/miniconda3/envs/outro_um/lib/python3.6/site-packages/sklearn/metrics/_classification.py:1248: UndefinedMetricWarning: Precision and F-score are ill-defined and being set to 0.0 in labels with no predicted samples. Use `zero_division` parameter to control this behavior.\n",
      "  _warn_prf(average, modifier, msg_start, len(result))\n",
      "/home/abner/miniconda3/envs/outro_um/lib/python3.6/site-packages/sklearn/metrics/_classification.py:1248: UndefinedMetricWarning: Precision and F-score are ill-defined and being set to 0.0 in labels with no predicted samples. Use `zero_division` parameter to control this behavior.\n",
      "  _warn_prf(average, modifier, msg_start, len(result))\n",
      "/home/abner/miniconda3/envs/outro_um/lib/python3.6/site-packages/sklearn/metrics/_classification.py:1248: UndefinedMetricWarning: Precision and F-score are ill-defined and being set to 0.0 in labels with no predicted samples. Use `zero_division` parameter to control this behavior.\n",
      "  _warn_prf(average, modifier, msg_start, len(result))\n"
     ]
    }
   ],
   "source": [
    "y_pred = model.predict(test_padded)\n",
    "y_pred_bool = np.argmax(y_pred, axis=1)\n",
    "\n",
    "print(classification_report(test_label_seq, y_pred_bool)) #https://scikit-learn.org/stable/modules/model_evaluation.html\n"
   ]
  },
  {
   "cell_type": "code",
   "execution_count": 52,
   "metadata": {},
   "outputs": [
    {
     "name": "stdout",
     "output_type": "stream",
     "text": [
      "0.0075128107759242675\n",
      "0.012385011823366543\n",
      "0.007412470731006351\n",
      "0.12524850894632206\n"
     ]
    },
    {
     "name": "stderr",
     "output_type": "stream",
     "text": [
      "/home/abner/miniconda3/envs/outro_um/lib/python3.6/site-packages/sklearn/metrics/_classification.py:1248: UndefinedMetricWarning: Precision is ill-defined and being set to 0.0 in labels with no predicted samples. Use `zero_division` parameter to control this behavior.\n",
      "  _warn_prf(average, modifier, msg_start, len(result))\n"
     ]
    }
   ],
   "source": [
    "# Print f1, precision, and recall scores\n",
    "print(precision_score(test_label_seq, y_pred_bool , average=\"macro\"))\n",
    "print(recall_score(test_label_seq, y_pred_bool , average=\"macro\"))\n",
    "print(f1_score(test_label_seq, y_pred_bool , average=\"macro\"))\n",
    "print(accuracy_score(test_label_seq, y_pred_bool ))\n",
    "\n"
   ]
  },
  {
   "cell_type": "code",
   "execution_count": null,
   "metadata": {},
   "outputs": [],
   "source": []
  }
 ],
 "metadata": {
  "interpreter": {
   "hash": "efde34d10431e78146c56074b710b4f7e5e083279935c85f31bd0be7c32811bf"
  },
  "kernelspec": {
   "display_name": "Python 3.6.13 64-bit ('outro_um': conda)",
   "name": "python3"
  },
  "language_info": {
   "codemirror_mode": {
    "name": "ipython",
    "version": 3
   },
   "file_extension": ".py",
   "mimetype": "text/x-python",
   "name": "python",
   "nbconvert_exporter": "python",
   "pygments_lexer": "ipython3",
   "version": "3.6.13"
  },
  "orig_nbformat": 4
 },
 "nbformat": 4,
 "nbformat_minor": 2
}
