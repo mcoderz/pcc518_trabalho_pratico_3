{
 "cells": [
  {
   "cell_type": "code",
   "execution_count": 2,
   "metadata": {},
   "outputs": [],
   "source": [
    "import csv\n",
    "import matplotlib.pyplot as plt\n",
    "import numpy as np\n",
    "import tensorflow as tf\n",
    "import pandas as pd\n",
    "from tensorflow.keras.preprocessing.text import Tokenizer\n",
    "from tensorflow.keras.preprocessing.sequence import pad_sequences\n",
    "from tensorflow.keras.models import Sequential\n",
    "from tensorflow.keras import layers\n",
    "from tensorflow.keras.layers import Dense, Embedding, LSTM\n",
    "\n",
    "from sklearn.metrics import f1_score, precision_score, recall_score, accuracy_score, classification_report\n",
    "from sklearn.model_selection import train_test_split"
   ]
  },
  {
   "cell_type": "code",
   "execution_count": 3,
   "metadata": {},
   "outputs": [
    {
     "name": "stderr",
     "output_type": "stream",
     "text": [
      "[nltk_data] Downloading package punkt to /home/abner/nltk_data...\n",
      "[nltk_data]   Package punkt is already up-to-date!\n",
      "[nltk_data] Downloading package stopwords to /home/abner/nltk_data...\n",
      "[nltk_data]   Package stopwords is already up-to-date!\n"
     ]
    },
    {
     "data": {
      "text/plain": [
       "True"
      ]
     },
     "execution_count": 3,
     "metadata": {},
     "output_type": "execute_result"
    }
   ],
   "source": [
    "import nltk\n",
    "from nltk.corpus import stopwords \n",
    "\n",
    "nltk.download('punkt')\n",
    "nltk.download('stopwords')"
   ]
  },
  {
   "cell_type": "code",
   "execution_count": 4,
   "metadata": {},
   "outputs": [],
   "source": [
    "df = pd.read_csv(\"data_training.csv\", sep=',',usecols=[\"topico\", \"texto\"])"
   ]
  },
  {
   "cell_type": "code",
   "execution_count": 5,
   "metadata": {},
   "outputs": [],
   "source": [
    "df_test = pd.read_csv(\"data_test.csv\", sep=',',usecols=[\"topico\", \"texto\"])"
   ]
  },
  {
   "cell_type": "code",
   "execution_count": 6,
   "metadata": {},
   "outputs": [],
   "source": [
    "stop_words = stopwords.words('english')\n",
    "\n",
    "df['texto'] = df['texto'].apply(lambda x: ' '.join([word for word in x.split() if word not in (stop_words)]))\n",
    "\n",
    "df_test['texto'] = df['texto'].apply(lambda x: ' '.join([word for word in x.split() if word not in (stop_words)]))\n",
    "\n"
   ]
  },
  {
   "cell_type": "code",
   "execution_count": 7,
   "metadata": {},
   "outputs": [],
   "source": [
    "x_train, x_val, y_train, y_val = train_test_split(\n",
    "    df['texto'], df['topico'],\n",
    "    test_size=0.33,\n",
    "    random_state=53) # https://scikit-learn.org/stable/modules/generated/sklearn.model_selection.train_test_split.html"
   ]
  },
  {
   "cell_type": "code",
   "execution_count": 8,
   "metadata": {},
   "outputs": [],
   "source": [
    "x_test = df_test['texto']\n",
    "y_test = df_test['topico']"
   ]
  },
  {
   "cell_type": "code",
   "execution_count": 9,
   "metadata": {},
   "outputs": [],
   "source": [
    "EMBEDDING_DIMENSION = 300\n",
    "VOCABULARY_SIZE = None # None mantem todas as palavras\n",
    "NUM_EPOCHS = 10\n",
    "OOV_TOK = '<OOV>'\n",
    "TRUNCATE_TYPE = 'post'\n",
    "PADDING_TYPE = 'post'"
   ]
  },
  {
   "cell_type": "code",
   "execution_count": 10,
   "metadata": {},
   "outputs": [],
   "source": [
    "# Calcula a mediana do tamanho dos textos no conjunto e torna esse valor o tamanho máximo dos textos.\n",
    "text_len = []\n",
    "for i in list(x_train) + list(x_val):\n",
    "    text_len.append(len(i))\n",
    "\n",
    "MAX_LENGTH = np.median(text_len)\n",
    "MAX_LENGTH = MAX_LENGTH.astype(np.int64)"
   ]
  },
  {
   "cell_type": "code",
   "execution_count": 11,
   "metadata": {},
   "outputs": [],
   "source": [
    "#https://www.tensorflow.org/api_docs/python/tf/keras/preprocessing/text/Tokenizer\n",
    "\n",
    "tokenizer = Tokenizer(num_words=VOCABULARY_SIZE, oov_token=OOV_TOK)\n",
    "tokenizer.fit_on_texts(list(x_train) + list(x_val))"
   ]
  },
  {
   "cell_type": "code",
   "execution_count": 12,
   "metadata": {},
   "outputs": [],
   "source": [
    "tokenizer = Tokenizer(num_words=VOCABULARY_SIZE, oov_token=OOV_TOK)\n",
    "tokenizer.fit_on_texts(list(x_test))"
   ]
  },
  {
   "cell_type": "code",
   "execution_count": 13,
   "metadata": {},
   "outputs": [
    {
     "name": "stdout",
     "output_type": "stream",
     "text": [
      "Vocabulary size: 20013\n"
     ]
    }
   ],
   "source": [
    "x_train_sequences = tokenizer.texts_to_sequences(x_train)\n",
    "x_val_sequences = tokenizer.texts_to_sequences(x_val)\n",
    "word_index = tokenizer.word_index\n",
    "print('Vocabulary size:', len(word_index))\n"
   ]
  },
  {
   "cell_type": "code",
   "execution_count": 14,
   "metadata": {},
   "outputs": [],
   "source": [
    "x_test_sequences = tokenizer.texts_to_sequences(x_test)"
   ]
  },
  {
   "cell_type": "code",
   "execution_count": 15,
   "metadata": {},
   "outputs": [],
   "source": [
    "x_train_pad = pad_sequences(x_train_sequences, maxlen=MAX_LENGTH, padding=PADDING_TYPE, truncating=TRUNCATE_TYPE)\n",
    "x_val_pad = pad_sequences(x_val_sequences, maxlen=MAX_LENGTH, padding=PADDING_TYPE, truncating=TRUNCATE_TYPE)\n"
   ]
  },
  {
   "cell_type": "code",
   "execution_count": 16,
   "metadata": {},
   "outputs": [],
   "source": [
    "x_test_pad = pad_sequences(x_test_sequences, maxlen=MAX_LENGTH, padding=PADDING_TYPE, truncating=TRUNCATE_TYPE)"
   ]
  },
  {
   "cell_type": "code",
   "execution_count": 17,
   "metadata": {},
   "outputs": [],
   "source": [
    "label_tokenizer = Tokenizer(filters='!\"#$%&()*+,./:;<=>?@[\\\\]^_`{|}~\\t\\n')\n",
    "label_tokenizer.fit_on_texts(list(y_train))\n",
    "\n",
    "training_label_seq = np.array(label_tokenizer.texts_to_sequences(y_train))"
   ]
  },
  {
   "cell_type": "code",
   "execution_count": 18,
   "metadata": {},
   "outputs": [],
   "source": [
    "label_tokenizer = Tokenizer(filters='!\"#$%&()*+,./:;<=>?@[\\\\]^_`{|}~\\t\\n')\n",
    "label_tokenizer.fit_on_texts(list(y_val))\n",
    "\n",
    "val_label_seq = np.array(label_tokenizer.texts_to_sequences(y_val))"
   ]
  },
  {
   "cell_type": "code",
   "execution_count": 19,
   "metadata": {},
   "outputs": [],
   "source": [
    "label_tokenizer = Tokenizer(filters='!\"#$%&()*+,./:;<=>?@[\\\\]^_`{|}~\\t\\n')\n",
    "label_tokenizer.fit_on_texts(list(y_test))\n",
    "\n",
    "test_label_seq = np.array(label_tokenizer.texts_to_sequences(y_test))"
   ]
  },
  {
   "cell_type": "code",
   "execution_count": 20,
   "metadata": {},
   "outputs": [
    {
     "name": "stdout",
     "output_type": "stream",
     "text": [
      "Model: \"sequential\"\n",
      "_________________________________________________________________\n",
      "Layer (type)                 Output Shape              Param #   \n",
      "=================================================================\n",
      "embedding (Embedding)        (None, None, 300)         6004200   \n",
      "_________________________________________________________________\n",
      "bidirectional (Bidirectional (None, 600)               1442400   \n",
      "_________________________________________________________________\n",
      "dense (Dense)                (None, 300)               180300    \n",
      "_________________________________________________________________\n",
      "dense_1 (Dense)              (None, 92)                27692     \n",
      "=================================================================\n",
      "Total params: 7,654,592\n",
      "Trainable params: 7,654,592\n",
      "Non-trainable params: 0\n",
      "_________________________________________________________________\n"
     ]
    }
   ],
   "source": [
    "model = tf.keras.Sequential([\n",
    "    tf.keras.layers.Embedding(len(word_index) + 1, EMBEDDING_DIMENSION),\n",
    "    tf.keras.layers.Bidirectional(tf.keras.layers.LSTM(EMBEDDING_DIMENSION)),\n",
    "    tf.keras.layers.Dense(EMBEDDING_DIMENSION, activation='relu'),\n",
    "    tf.keras.layers.Dense(92, activation='softmax')\n",
    "])\n",
    "model.summary()"
   ]
  },
  {
   "cell_type": "code",
   "execution_count": 21,
   "metadata": {},
   "outputs": [],
   "source": [
    "model.compile(loss='sparse_categorical_crossentropy',optimizer='adam',metrics=['accuracy']) \n",
    "# https://keras.io/api/models/model_training_apis/ ; https://www.tensorflow.org/api_docs/python/tf/keras/metrics"
   ]
  },
  {
   "cell_type": "code",
   "execution_count": 22,
   "metadata": {},
   "outputs": [
    {
     "name": "stdout",
     "output_type": "stream",
     "text": [
      "Train on 7646 samples, validate on 3767 samples\n",
      "Epoch 1/10\n",
      "7646/7646 - 1966s - loss: 1.9657 - accuracy: 0.5162 - val_loss: 1.6726 - val_accuracy: 0.6347\n",
      "Epoch 2/10\n",
      "7646/7646 - 2000s - loss: 1.2794 - accuracy: 0.6593 - val_loss: 1.8312 - val_accuracy: 0.6331\n",
      "Epoch 3/10\n",
      "7646/7646 - 1943s - loss: 0.9894 - accuracy: 0.7129 - val_loss: 2.0490 - val_accuracy: 0.6374\n",
      "Epoch 4/10\n",
      "7646/7646 - 1920s - loss: 0.8075 - accuracy: 0.7599 - val_loss: 2.1179 - val_accuracy: 0.6201\n",
      "Epoch 5/10\n",
      "7646/7646 - 1761s - loss: 0.6730 - accuracy: 0.7866 - val_loss: 2.5319 - val_accuracy: 0.6143\n",
      "Epoch 6/10\n",
      "7646/7646 - 1558s - loss: 0.5912 - accuracy: 0.8033 - val_loss: 2.5797 - val_accuracy: 0.6257\n",
      "Epoch 7/10\n",
      "7646/7646 - 1544s - loss: 0.5288 - accuracy: 0.8081 - val_loss: 2.8747 - val_accuracy: 0.6299\n",
      "Epoch 8/10\n",
      "7646/7646 - 1371s - loss: 0.4805 - accuracy: 0.8207 - val_loss: 2.8985 - val_accuracy: 0.6334\n",
      "Epoch 9/10\n",
      "7646/7646 - 1368s - loss: 0.4537 - accuracy: 0.8253 - val_loss: 3.0721 - val_accuracy: 0.6037\n",
      "Epoch 10/10\n",
      "7646/7646 - 1372s - loss: 0.4195 - accuracy: 0.8326 - val_loss: 3.0748 - val_accuracy: 0.6039\n"
     ]
    }
   ],
   "source": [
    "\n",
    "history = model.fit(x_train_pad, training_label_seq, epochs=NUM_EPOCHS, validation_data=(x_val_pad, val_label_seq), verbose=2)"
   ]
  },
  {
   "cell_type": "code",
   "execution_count": 23,
   "metadata": {},
   "outputs": [
    {
     "data": {
      "image/png": "[encoded data removed]",
      "text/plain": [
       "<Figure size 432x288 with 1 Axes>"
      ]
     },
     "metadata": {
      "needs_background": "light"
     },
     "output_type": "display_data"
    }
   ],
   "source": [
    "plt.title('Accuracy')\n",
    "plt.plot(history.history['val_accuracy'], label='validation accuracy')\n",
    "plt.plot(history.history['accuracy'], label='train accuracy')\n",
    "plt.xlabel('Epoch')\n",
    "\n",
    "\n",
    "plt.legend()\n",
    "plt.show()"
   ]
  },
  {
   "cell_type": "code",
   "execution_count": 24,
   "metadata": {},
   "outputs": [
    {
     "data": {
      "image/png": "[encoded data removed]",
      "text/plain": [
       "<Figure size 432x288 with 1 Axes>"
      ]
     },
     "metadata": {
      "needs_background": "light"
     },
     "output_type": "display_data"
    }
   ],
   "source": [
    "plt.title('loss')\n",
    "plt.plot(history.history['val_loss'], label='validation loss')\n",
    "plt.plot(history.history['accuracy'], label='train loss')\n",
    "plt.xlabel('Epoch')\n",
    "\n",
    "\n",
    "plt.legend()\n",
    "plt.show()"
   ]
  },
  {
   "cell_type": "code",
   "execution_count": 25,
   "metadata": {},
   "outputs": [
    {
     "name": "stdout",
     "output_type": "stream",
     "text": [
      "4024/1 - 172s - loss: 21.3823 - accuracy: 0.0539\n"
     ]
    }
   ],
   "source": [
    "test_eval = model.evaluate(x_test_pad, test_label_seq, verbose=2)"
   ]
  },
  {
   "cell_type": "code",
   "execution_count": 26,
   "metadata": {},
   "outputs": [
    {
     "name": "stdout",
     "output_type": "stream",
     "text": [
      "              precision    recall  f1-score   support\n",
      "\n",
      "           1       0.38      0.01      0.02      1087\n",
      "           2       0.01      0.01      0.01       719\n",
      "           3       0.12      0.68      0.20       280\n",
      "           4       0.01      0.02      0.01       189\n",
      "           5       0.00      0.00      0.00       179\n",
      "           6       0.08      0.01      0.01       149\n",
      "           7       0.10      0.04      0.06       131\n",
      "           8       0.00      0.00      0.00       117\n",
      "           9       0.00      0.00      0.00        89\n",
      "          10       0.00      0.00      0.00        71\n",
      "          11       0.00      0.00      0.00        56\n",
      "          12       0.17      0.02      0.04        47\n",
      "          13       0.00      0.00      0.00        44\n",
      "          14       0.00      0.00      0.00        37\n",
      "          15       0.00      0.00      0.00        36\n",
      "          16       0.00      0.00      0.00        35\n",
      "          17       0.00      0.00      0.00        34\n",
      "          18       0.00      0.00      0.00        33\n",
      "          19       0.00      0.00      0.00        30\n",
      "          20       0.00      0.00      0.00        30\n",
      "          21       0.00      0.00      0.00        30\n",
      "          22       0.00      0.00      0.00        28\n",
      "          23       0.00      0.00      0.00        28\n",
      "          24       0.00      0.00      0.00        24\n",
      "          25       0.00      0.00      0.00        24\n",
      "          26       0.00      0.00      0.00        23\n",
      "          27       0.00      0.00      0.00        21\n",
      "          28       0.00      0.00      0.00        20\n",
      "          29       0.00      0.00      0.00        19\n",
      "          30       0.00      0.00      0.00        18\n",
      "          31       0.00      0.00      0.00        18\n",
      "          32       0.00      0.00      0.00        18\n",
      "          33       0.00      0.00      0.00        18\n",
      "          34       0.00      0.00      0.00        17\n",
      "          35       0.00      0.00      0.00        14\n",
      "          36       0.00      0.00      0.00        14\n",
      "          37       0.00      0.00      0.00        14\n",
      "          38       0.00      0.00      0.00        14\n",
      "          39       0.00      0.00      0.00        13\n",
      "          40       0.00      0.00      0.00        13\n",
      "          41       0.00      0.00      0.00        12\n",
      "          42       0.00      0.00      0.00        12\n",
      "          43       0.00      0.00      0.00        12\n",
      "          44       0.00      0.00      0.00        12\n",
      "          45       0.00      0.00      0.00        11\n",
      "          46       0.00      0.00      0.00        11\n",
      "          47       0.00      0.00      0.00        11\n",
      "          48       0.00      0.00      0.00        10\n",
      "          49       0.00      0.00      0.00        10\n",
      "          50       0.00      0.00      0.00        10\n",
      "          51       0.00      0.00      0.00        10\n",
      "          52       0.00      0.00      0.00         9\n",
      "          53       0.00      0.00      0.00         8\n",
      "          54       0.00      0.00      0.00         7\n",
      "          55       0.00      0.00      0.00         7\n",
      "          56       0.00      0.00      0.00         6\n",
      "          57       0.00      0.00      0.00         6\n",
      "          58       0.00      0.00      0.00         6\n",
      "          59       0.00      0.00      0.00         5\n",
      "          60       0.00      0.00      0.00         5\n",
      "          61       0.00      0.00      0.00         4\n",
      "          62       0.00      0.00      0.00         4\n",
      "          63       0.00      0.00      0.00         4\n",
      "          64       0.00      0.00      0.00         4\n",
      "          65       0.00      0.00      0.00         4\n",
      "          66       0.00      0.00      0.00         3\n",
      "          67       0.00      0.00      0.00         3\n",
      "          68       0.00      0.00      0.00         3\n",
      "          69       0.00      0.00      0.00         3\n",
      "          70       0.00      0.00      0.00         3\n",
      "          71       0.00      0.00      0.00         2\n",
      "          72       0.00      0.00      0.00         2\n",
      "          73       0.00      0.00      0.00         2\n",
      "          74       0.00      0.00      0.00         2\n",
      "          75       0.00      0.00      0.00         2\n",
      "          76       0.00      0.00      0.00         2\n",
      "          77       0.00      0.00      0.00         2\n",
      "          78       0.00      0.00      0.00         1\n",
      "          79       0.00      0.00      0.00         1\n",
      "          80       0.00      0.00      0.00         1\n",
      "          81       0.00      0.00      0.00         1\n",
      "          82       0.00      0.00      0.00         1\n",
      "          83       0.00      0.00      0.00         1\n",
      "          84       0.00      0.00      0.00         1\n",
      "          85       0.00      0.00      0.00         1\n",
      "          86       0.00      0.00      0.00         1\n",
      "          87       0.00      0.00      0.00         1\n",
      "          88       0.00      0.00      0.00         1\n",
      "          89       0.00      0.00      0.00         1\n",
      "          90       0.00      0.00      0.00         1\n",
      "          91       0.00      0.00      0.00         1\n",
      "\n",
      "    accuracy                           0.05      4024\n",
      "   macro avg       0.01      0.01      0.00      4024\n",
      "weighted avg       0.12      0.05      0.02      4024\n",
      "\n"
     ]
    },
    {
     "name": "stderr",
     "output_type": "stream",
     "text": [
      "/home/abner/miniconda3/envs/outro_um/lib/python3.6/site-packages/sklearn/metrics/_classification.py:1248: UndefinedMetricWarning: Precision and F-score are ill-defined and being set to 0.0 in labels with no predicted samples. Use `zero_division` parameter to control this behavior.\n",
      "  _warn_prf(average, modifier, msg_start, len(result))\n",
      "/home/abner/miniconda3/envs/outro_um/lib/python3.6/site-packages/sklearn/metrics/_classification.py:1248: UndefinedMetricWarning: Precision and F-score are ill-defined and being set to 0.0 in labels with no predicted samples. Use `zero_division` parameter to control this behavior.\n",
      "  _warn_prf(average, modifier, msg_start, len(result))\n",
      "/home/abner/miniconda3/envs/outro_um/lib/python3.6/site-packages/sklearn/metrics/_classification.py:1248: UndefinedMetricWarning: Precision and F-score are ill-defined and being set to 0.0 in labels with no predicted samples. Use `zero_division` parameter to control this behavior.\n",
      "  _warn_prf(average, modifier, msg_start, len(result))\n"
     ]
    }
   ],
   "source": [
    "y_pred = model.predict(x_test_pad)\n",
    "y_pred_bool = np.argmax(y_pred, axis=1)\n",
    "\n",
    "report = classification_report(test_label_seq, y_pred_bool) #https://scikit-learn.org/stable/modules/model_evaluation.html\n",
    "\n",
    "print(report)\n",
    "\n"
   ]
  },
  {
   "cell_type": "code",
   "execution_count": null,
   "metadata": {},
   "outputs": [],
   "source": [
    "# Cria um CSV apartir do do report\n",
    "\n",
    "report_t = classification_report(test_label_seq, y_pred_bool, output_dict=True)\n",
    "\n",
    "df_report = pd.DataFrame(report_t).transpose()\n",
    "\n",
    "df_report.to_csv('report.csv')\n",
    "\n"
   ]
  },
  {
   "cell_type": "code",
   "execution_count": 27,
   "metadata": {},
   "outputs": [
    {
     "name": "stdout",
     "output_type": "stream",
     "text": [
      "0.009370510265615813\n",
      "0.00853201584469779\n",
      "0.003785029493228207\n",
      "0.05392644135188867\n"
     ]
    },
    {
     "name": "stderr",
     "output_type": "stream",
     "text": [
      "/home/abner/miniconda3/envs/outro_um/lib/python3.6/site-packages/sklearn/metrics/_classification.py:1248: UndefinedMetricWarning: Precision is ill-defined and being set to 0.0 in labels with no predicted samples. Use `zero_division` parameter to control this behavior.\n",
      "  _warn_prf(average, modifier, msg_start, len(result))\n"
     ]
    }
   ],
   "source": [
    "# Print f1, precision, and recall scores\n",
    "precision = precision_score(test_label_seq, y_pred_bool , average=\"macro\")\n",
    "recall = recall_score(test_label_seq, y_pred_bool , average=\"macro\")\n",
    "f1 = f1_score(test_label_seq, y_pred_bool , average=\"macro\")\n",
    "accuracy = accuracy_score(test_label_seq, y_pred_bool )\n",
    "\n",
    "print(precision)\n",
    "print(recall)\n",
    "print(f1)\n",
    "print(accuracy)"
   ]
  }
 ],
 "metadata": {
  "interpreter": {
   "hash": "efde34d10431e78146c56074b710b4f7e5e083279935c85f31bd0be7c32811bf"
  },
  "kernelspec": {
   "display_name": "Python 3.6.13 64-bit ('outro_um': conda)",
   "name": "python3"
  },
  "language_info": {
   "codemirror_mode": {
    "name": "ipython",
    "version": 3
   },
   "file_extension": ".py",
   "mimetype": "text/x-python",
   "name": "python",
   "nbconvert_exporter": "python",
   "pygments_lexer": "ipython3",
   "version": "3.6.13"
  },
  "orig_nbformat": 4
 },
 "nbformat": 4,
 "nbformat_minor": 2
}
